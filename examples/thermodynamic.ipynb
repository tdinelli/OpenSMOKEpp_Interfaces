{
 "cells": [
  {
   "cell_type": "code",
   "execution_count": 1,
   "id": "3e8fcb5c-86fd-40cd-940c-bd658fdb0ce4",
   "metadata": {},
   "outputs": [],
   "source": [
    "import os\n",
    "from pyOpenSMOKE import OpenSMOKEMaps, ThermodynamicsMap_CHEMKIN"
   ]
  },
  {
   "cell_type": "code",
   "execution_count": 2,
   "id": "3b7e4605-471a-4c27-9ba8-f41e0994b778",
   "metadata": {},
   "outputs": [
    {
     "name": "stdout",
     "output_type": "stream",
     "text": [
      "Help on class ThermodynamicsMap_CHEMKIN in module pyOpenSMOKE:\n",
      "\n",
      "class ThermodynamicsMap_CHEMKIN(pybind11_builtins.pybind11_object)\n",
      " |  Method resolution order:\n",
      " |      ThermodynamicsMap_CHEMKIN\n",
      " |      pybind11_builtins.pybind11_object\n",
      " |      builtins.object\n",
      " |\n",
      " |  Methods defined here:\n",
      " |\n",
      " |  IndexOfElement(...)\n",
      " |      IndexOfElement(self: pyOpenSMOKE.ThermodynamicsMap_CHEMKIN, name: str) -> int\n",
      " |\n",
      " |      Function that returns the index of the element given the name, if the element is not present returns an error\n",
      " |\n",
      " |  IndexOfSpecies(...)\n",
      " |      IndexOfSpecies(self: pyOpenSMOKE.ThermodynamicsMap_CHEMKIN, name: str) -> int\n",
      " |\n",
      " |      Function that returns the index of the species (1-based) given the name, if the species is not present returns an error\n",
      " |\n",
      " |  MW(...)\n",
      " |      MW(self: pyOpenSMOKE.ThermodynamicsMap_CHEMKIN, i: int) -> float\n",
      " |\n",
      " |      Function that returns the molecular weight of the i-th species [kg/kmol]\n",
      " |\n",
      " |  MWs(...)\n",
      " |      MWs(self: pyOpenSMOKE.ThermodynamicsMap_CHEMKIN) -> List[float]\n",
      " |\n",
      " |      Function that returns a vector containing the molecular weights of the species [kg/kmol]\n",
      " |\n",
      " |  NamesOfSpecies(...)\n",
      " |      NamesOfSpecies(self: pyOpenSMOKE.ThermodynamicsMap_CHEMKIN) -> List[str]\n",
      " |\n",
      " |      Function that returns the names of the species within the kinetic mechanism\n",
      " |\n",
      " |  NumberOfSpecies(...)\n",
      " |      NumberOfSpecies(self: pyOpenSMOKE.ThermodynamicsMap_CHEMKIN) -> int\n",
      " |\n",
      " |      Function that returns the total number of species inside the mechanism\n",
      " |\n",
      " |  __init__(...)\n",
      " |      __init__(self: pyOpenSMOKE.ThermodynamicsMap_CHEMKIN, rhs: pyOpenSMOKE.ThermodynamicsMap_CHEMKIN) -> None\n",
      " |\n",
      " |      Copy constructor of the original OpenSMOKE class\n",
      " |\n",
      " |  atomic_composition(...)\n",
      " |      atomic_composition(self: pyOpenSMOKE.ThermodynamicsMap_CHEMKIN) -> numpy.ndarray[numpy.float64[m, n]]\n",
      " |\n",
      " |      Returns the matrix describing the elemental composition of every species. NS x NE where NS is number of species and NE is number of elements\n",
      " |\n",
      " |  elements(...)\n",
      " |      elements(self: pyOpenSMOKE.ThermodynamicsMap_CHEMKIN) -> List[str]\n",
      " |\n",
      " |      Returns the list of names of elements\n",
      " |\n",
      " |  ----------------------------------------------------------------------\n",
      " |  Static methods inherited from pybind11_builtins.pybind11_object:\n",
      " |\n",
      " |  __new__(*args, **kwargs) from pybind11_builtins.pybind11_type\n",
      " |      Create and return a new object.  See help(type) for accurate signature.\n",
      "\n"
     ]
    }
   ],
   "source": [
    "help(ThermodynamicsMap_CHEMKIN)"
   ]
  },
  {
   "cell_type": "code",
   "execution_count": 3,
   "id": "c089a5e5-9a3a-4bb9-b635-a8da96ba0b79",
   "metadata": {},
   "outputs": [
    {
     "name": "stdout",
     "output_type": "stream",
     "text": [
      " * Reading thermodynamic coefficients of species from XML file...\n",
      " * Reading kinetic parameters of reactions...\n",
      " * Reading kinetic parameters of third body reactions...\n",
      " * Reading kinetic parameters of pressure-dependent reactions...\n",
      " * Reading kinetic parameters of additional reactions...\n",
      " * Building stoichiometry...\n",
      "   non-zero stoichiometric coefficients: 57937 /3537000 (1.63803%)\n",
      " * Building reaction orders...\n",
      "   non-zero reaction-order coefficients: 24195 /3537000 (0.684054%)\n",
      " * Non elementary direct reactions:  0\n",
      " * Non elementary reverse reactions: 0\n",
      "\n",
      "----------------------------------------------------------------------------\n",
      " Kinetic Mechanism Summary\n",
      "----------------------------------------------------------------------------\n",
      " Total number of species:        300\n",
      " Total number of reactions:      11790\n",
      "   Reversible reactions:         672 (5.69975%)\n",
      "    * by thermodynamics:         672 (100%)\n",
      "    * by Arrhenius' law:         0 (0%)\n",
      "   Pressure dependent reactions: 34 (0.28838%)\n",
      "    * fall-off reactions:        34 (100%)\n",
      "      ** lindemann form:         10 (29.4118%)\n",
      "      ** troe form:              23 (67.6471%)\n",
      "      ** sri form:               1 (2.94118%)\n",
      "    * cabr reactions:            0 (0%)\n",
      "   Chebyshev reactions:          0 (0%)\n",
      "   Pressure-Log reactions:       0 (0%)\n",
      "   Ext-Pressure-Log reactions:   0 (0%)\n",
      "   Ext-Falloff reactions:        0 (0%)\n",
      "   Red-Pressure-Based reactions: 0 (0%)\n",
      "   Fit1 reactions:               0 (0%)\n",
      "   Janev-Langer reactions:       0 (0%)\n",
      "   Landau-Teller reactions:      0 (0%)\n",
      " Negative frequency factors:     0 (0%)\n",
      "\n",
      "----------------------------------------------------------------------------\n",
      " Reversible reactions (by thermodynamics)    672\n",
      "----------------------------------------------------------------------------\n",
      " Reactions without change of moles:        329 (48.9583%)\n",
      " Reactions with change of moles (+1):      236 (15.9226%)\n",
      " Reactions with change of moles (-1):      107 (35.119%)\n",
      " Reactions with change of moles (other):   0 (0%)\n",
      "\n",
      "Time to read XML file: 0.079732\n"
     ]
    }
   ],
   "source": [
    "# mech_directory = os.path.join(os.path.dirname(os.path.abspath(__file__)), \"data\")\n",
    "maps = OpenSMOKEMaps(\"/Users/tdinelli/Documents/GitHub/OpenSMOKEpp_Interfaces/examples/data\", transport=False, verbose=True)\n",
    "maps.ReadMechanism()\n",
    "thermo = maps.ThermodynamicsMap()"
   ]
  },
  {
   "cell_type": "code",
   "execution_count": 4,
   "id": "5fa775a9-3008-4a0f-93c1-59676f045062",
   "metadata": {},
   "outputs": [
    {
     "name": "stdout",
     "output_type": "stream",
     "text": [
      "Species:\n",
      " ['HE', 'AR', 'N2', 'O2', 'H2', 'H2O', 'H2O2', 'CO', 'CO2', 'CH2O', 'HCOOH', 'HCO3H', 'CH4', 'CH3OH', 'CH3OOH', 'C2H2', 'CH2CO', 'C2H2O2', 'C2H4', 'CH3CHO', 'C2H4O', 'C2H4O2', 'CH3COOH', 'CH3CO3H', 'C2-OQOOH', 'C2H6', 'C2H5OH', 'C2H5OOH', 'C3H2', 'AC3H4', 'PC3H4', 'C2H3CHO', 'C3H4O2', 'ETC3H4O2', 'KEA3G2', 'KEA3B3', 'C3H6', 'CH3COCH3', 'C3H6O', 'C3H5OH', 'C2H5CHO', 'C3H6O2', 'ACETOL', 'C3H5OOH', 'C3-OQOOH', 'C3H8', 'IC3H7OH', 'NC3H7OH', 'C3H7OOH', 'C4H2', 'C4H4', 'C4H6', 'C3H5CHO', 'IC3H5CHO', 'C4H6O2', 'IC4H8', 'NC4H8', 'C4H8O', 'C3H7CHO', 'IC3H7CHO', 'C4H7OH', 'MEK', 'IC4-OQOOH', 'NC4-OQOOH', 'KEHYBU1', 'IC4H10', 'NC4H10', 'N1C4H9OH', 'IC4H9OH', 'TC4H9OH', 'N2C4H9OH', 'C4H9OOH', 'CYC5H4O', 'CYC5H6', 'CYC5H8', 'C5H8', 'C5H8O', 'C5EN-OQOOH-35', 'NC5H10', 'IC5H10', 'NEOC5H10-O', 'NC5H10-O', 'C4H9CHO', 'NC5-OQOOH', 'NEOC5-OQOOH', 'NC5H12', 'NEOC5H12', 'NC5H11OOH', 'C6H2', 'C6H4', 'BENZYNE', 'C6H4O2', 'C6H6', 'LC6H6', 'C6H5OH', 'CYC6H8', 'MCPTD', 'CYC6H10', 'C5H9CHO', 'CYC6H10-ONE', 'CYC6H10-O-13', 'CYC6H10-O-12', 'CYC6H10-O-14', 'CYC6-OQOOH-3', 'CYC6-OQOOH-2', 'CYC6-OQOOH-4', 'CYC6H12', 'NC6H12', 'C6H5CHO', 'C7H8', 'C6H5CH2OH', 'C6H5OCH3', 'CRESOL', 'CH3CH3-C5H6', 'C7DIONE', 'NC7H14', 'C7KETONE', 'NC7H14O', 'NC7H13OOH', 'NC7-OQOOH', 'NC7H16', 'NC7H15OOH', 'C8H2', 'C6H5C2H', 'C6H5C2H3', 'C6H5C2H5', 'XYLENE', 'IC8H16', 'IC8H16O', 'IC8-OQOOH', 'IC8H18', 'INDENE', 'NPBENZ', 'TMBENZ', 'C10H8', 'C10H7OH', 'C10H7CHO', 'C10H7CH3', 'CH3C10H6OH', 'C12H8', 'BIPHENYL', 'DIFENET', 'FLUORENE', 'C6H5CH2C6H5', 'C14H10', 'C6H5C2H4C6H5', 'C16H10', 'BIN1B', 'BIN1A', 'O', 'H', 'OH', 'HO2', 'C', 'CSOLID', 'CH', 'HCO', 'HCO3', 'CH2S', 'CH2', 'CH3', 'CH3O', 'CH2OH', 'CH3OO', 'C2H', 'HCCO', 'C2H3', 'CH2CHO', 'CH3CO', 'CH3CO3', 'C2H5', 'CH3CHOH', 'C2H4OH', 'C2H5OO', 'C2-QOOH', 'C2-OOQOOH', 'C3H3', 'CH2CCH3', 'CH2CHCH2', 'CHCHCH3', 'CH3COCH2', 'RALD3B', 'RALD3G', 'C3H5OO', 'CH3CHOOCHO', 'CH2OOCH2CHO', 'CH2CHOOHCHO', 'CH2OOHCHCHO', 'CH2OOHCHOOCHO', 'CH2OOCHOOHCHO', 'IC3H7', 'NC3H7', 'CH3COHCH3', 'CH3CH2CH2O', 'CH3CH2CHOH', 'CH2CHOHCH3', 'NC3H7O', 'CH3CHCH2OH', 'CH2CH2CH2OH', 'NC3-QOOH', 'IC3-QOOH', 'IC3H7OO', 'NC3H7OO', 'NC3-OOQOOH', 'IC3-OOQOOH', 'C4H3', 'C4H5', 'SC4H7', 'CH2C3H5', 'IC4H7', 'IC4H9P', 'NC4H9S', 'NC4H9P', 'IC4H9T', 'CH3CH2COHCH3', 'CH3CHCH2OCH3', 'CH3CHCH2CH2OH', 'CH3CH2CH2CH2O', 'RTC4H9O', 'CH3CHCH3CHOH', 'CH3CH2CHOCH3', 'CH2CH2CH2CH2OH', 'CH3CHCHOHCH3', 'CH2CH2CHOHCH3', 'CH3CCH2OHCH3', 'RTC4H8OH', 'CH3CH2CHCH2OH', 'CH3CH2CH2CHOH', 'CH3CH2CHOHCH2', 'CH2CHCH2OHCH3', 'IC4H9P-OO', 'NC4H9-OO', 'NC4-QOOH', 'IC4H9T-OO', 'IC4P-QOOH', 'IC4T-QOOH', 'RBU1OOX', 'QBU1OOX', 'IC4P-OOQOOH', 'IC4T-OOQOOH', 'NC4-OOQOOH', 'ZBU1OOX', 'CYC5H5', 'C5H5O', 'C5H7', 'NC5H9-3', 'ERC4H8CHO', 'C5EN-QOOH', 'C5EN-OO', 'C5EN-OOQOOH-35', 'NC5H11', 'NEOC5H11', 'NEOC5H11-OO', 'NC5-QOOH', 'NEOC5-QOOH', 'NC5H12OO', 'NEOC5-OOQOOH', 'NC5-OOQOOH', 'C6H3', 'C6H5', 'LC6H5', 'C6H5O', 'CYC6H9', 'CYC6H11', 'CYC6-QOOH-4', 'CYC6-OO', 'CYC6-QOOH-3', 'CYC6-QOOH-2', 'CYC6-OOQOOH-3', 'CYC6-OOQOOH-4', 'CYC6-OOQOOH-2', 'C6H4CH3', 'C7H7', 'RCRESOLC', 'RCRESOLO', 'NC7H13', 'NC7H15', 'NC7H15-OO', 'NC7-QOOH', 'NC7-OOQOOH', 'C6H4C2H', 'C6H5C2H2', 'RXYLENE', 'C8H9', 'IC8H17', 'IC8H17-OO', 'IC8T-QOOH', 'IC8-QOOH', 'IC8-OOQOOH', 'INDENYL', 'RC9H11', 'C10H7', 'C10H7O', 'C10H7CH2', 'C10H6CH3', 'CH3C10H6O', 'C12H7', 'RBIPHENYL', 'C14H9', 'C16H9']\n",
      "\n",
      "Elements:\n",
      " ['C', 'H', 'O', 'N', 'AR', 'HE']\n",
      "\n",
      "Species-elements matrix:\n",
      " [[ 0.  0.  0.  0.  0.  1.]\n",
      " [ 0.  0.  0.  0.  1.  0.]\n",
      " [ 0.  0.  0.  2.  0.  0.]\n",
      " ...\n",
      " [12.  9.  0.  0.  0.  0.]\n",
      " [14.  9.  0.  0.  0.  0.]\n",
      " [16.  9.  0.  0.  0.  0.]]\n"
     ]
    }
   ],
   "source": [
    "print(\"Species:\\n\", thermo.NamesOfSpecies())\n",
    "print(\"\\nElements:\\n\", thermo.elements())\n",
    "print(\"\\nSpecies-elements matrix:\\n\", thermo.atomic_composition())"
   ]
  },
  {
   "cell_type": "code",
   "execution_count": 5,
   "id": "d2a825f6-be1d-4b1b-ae22-2c9b2b09883d",
   "metadata": {},
   "outputs": [
    {
     "name": "stdout",
     "output_type": "stream",
     "text": [
      "Species CH2CHOOHCHO, is at position 187\n",
      "Species CH2CHOOHCHO, has the following atomic composition [3. 5. 3. 0. 0. 0.] ['C', 'H', 'O', 'N', 'AR', 'HE']\n",
      "Species CH2CHOOHCHO, has a molecular weight of 89.06999790668488\n"
     ]
    }
   ],
   "source": [
    "species = \"CH2CHOOHCHO\"\n",
    "index = thermo.IndexOfSpecies(species)\n",
    "mw = thermo.MW(index-1)\n",
    "mspe = thermo.atomic_composition()\n",
    "\n",
    "print(\"Species {}, is at position {}\".format(species, index))\n",
    "print(\"Species {}, has the following atomic composition {}\".format(species, mspe[index-1, :]), thermo.elements())\n",
    "print(\"Species {}, has a molecular weight of {}\".format(species, mw))"
   ]
  }
 ],
 "metadata": {
  "kernelspec": {
   "display_name": "Python 3 (ipykernel)",
   "language": "python",
   "name": "python3"
  },
  "language_info": {
   "codemirror_mode": {
    "name": "ipython",
    "version": 3
   },
   "file_extension": ".py",
   "mimetype": "text/x-python",
   "name": "python",
   "nbconvert_exporter": "python",
   "pygments_lexer": "ipython3",
   "version": "3.12.1"
  }
 },
 "nbformat": 4,
 "nbformat_minor": 5
}
